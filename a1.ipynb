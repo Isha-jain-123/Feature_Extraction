{
  "nbformat": 4,
  "nbformat_minor": 0,
  "metadata": {
    "colab": {
      "name": "a1.ipynb",
      "provenance": []
    },
    "kernelspec": {
      "name": "python3",
      "display_name": "Python 3"
    },
    "language_info": {
      "name": "python"
    }
  },
  "cells": [
    {
      "cell_type": "code",
      "execution_count": 5,
      "metadata": {
        "id": "kkxxBkdREiS_"
      },
      "outputs": [],
      "source": [
        "import torch\n",
        "import pandas as pd"
      ]
    },
    {
      "cell_type": "code",
      "source": [
        "def replace_nan(path):\n",
        "  model = torch.load(path)\n",
        "  df = pd.DataFrame(model).astype(\"float\")\n",
        "  df = df.apply(lambda x: x.fillna(x.mean()),axis=0)\n",
        "  torch_tensor = torch.tensor(df.values)\n",
        "\n",
        "  return torch_tensor"
      ],
      "metadata": {
        "id": "pMdrvv3fa7Qz"
      },
      "execution_count": 3,
      "outputs": []
    },
    {
      "cell_type": "code",
      "source": [
        "path = \"/content/0009_white_floor_01_01_2019_08_15_11_40.pt\"\n",
        "print(replace_nan(path))"
      ],
      "metadata": {
        "colab": {
          "base_uri": "https://localhost:8080/"
        },
        "id": "80tIY1t5baTB",
        "outputId": "507b9987-47c9-4608-d156-9edd4686860a"
      },
      "execution_count": 4,
      "outputs": [
        {
          "output_type": "stream",
          "name": "stdout",
          "text": [
            "tensor([[3.8470e-01, 0.0000e+00, 1.0786e+00,  ..., 1.2915e+01, 5.2687e+00,\n",
            "         0.0000e+00],\n",
            "        [2.9607e-01, 0.0000e+00, 9.8306e-01,  ..., 1.2528e+01, 4.7265e+00,\n",
            "         0.0000e+00],\n",
            "        [2.3377e-01, 0.0000e+00, 2.3619e-01,  ..., 1.3446e+01, 1.5576e+00,\n",
            "         0.0000e+00],\n",
            "        ...,\n",
            "        [2.0314e-01, 0.0000e+00, 0.0000e+00,  ..., 1.1271e+01, 1.0763e+00,\n",
            "         0.0000e+00],\n",
            "        [3.7620e-01, 0.0000e+00, 4.1791e-03,  ..., 1.1748e+01, 1.6612e+00,\n",
            "         0.0000e+00],\n",
            "        [3.3561e-01, 0.0000e+00, 9.4515e-02,  ..., 1.2263e+01, 2.0129e+00,\n",
            "         0.0000e+00]], dtype=torch.float64)\n"
          ]
        }
      ]
    }
  ]
}